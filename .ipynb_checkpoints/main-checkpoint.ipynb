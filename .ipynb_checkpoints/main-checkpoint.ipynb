{
 "cells": [
  {
   "cell_type": "code",
   "execution_count": 45,
   "metadata": {},
   "outputs": [
    {
     "data": {
      "text/html": [
       "        <script type=\"text/javascript\">\n",
       "        window.PlotlyConfig = {MathJaxConfig: 'local'};\n",
       "        if (window.MathJax) {MathJax.Hub.Config({SVG: {font: \"STIX-Web\"}});}\n",
       "        if (typeof require !== 'undefined') {\n",
       "        require.undef(\"plotly\");\n",
       "        requirejs.config({\n",
       "            paths: {\n",
       "                'plotly': ['https://cdn.plot.ly/plotly-latest.min']\n",
       "            }\n",
       "        });\n",
       "        require(['plotly'], function(Plotly) {\n",
       "            window._Plotly = Plotly;\n",
       "        });\n",
       "        }\n",
       "        </script>\n",
       "        "
      ]
     },
     "metadata": {},
     "output_type": "display_data"
    }
   ],
   "source": [
    "import pandas as pd\n",
    "import matplotlib.pyplot as plt\n",
    "import seaborn as sns\n",
    "import statsmodels.api as sm\n",
    "import statsmodels.formula.api as smf\n",
    "\n",
    "from sklearn import datasets, linear_model\n",
    "from sklearn.model_selection import train_test_split\n",
    "from sklearn.linear_model import LinearRegression\n",
    "\n",
    "import plotly.plotly as py\n",
    "import plotly.tools as tls\n",
    "\n",
    "from plotly.offline import download_plotlyjs, init_notebook_mode, plot, iplot\n",
    "\n",
    "init_notebook_mode(connected=True)"
   ]
  },
  {
   "cell_type": "code",
   "execution_count": 33,
   "metadata": {},
   "outputs": [
    {
     "name": "stdout",
     "output_type": "stream",
     "text": [
      "(359, 11) (359,)\n",
      "(154, 11) (154,)\n"
     ]
    },
    {
     "data": {
      "text/plain": [
       "Text(0, 0.5, 'Predictions')"
      ]
     },
     "execution_count": 33,
     "metadata": {},
     "output_type": "execute_result"
    },
    {
     "data": {
      "image/png": "[encoded data removed]",
      "text/plain": [
       "<Figure size 432x288 with 1 Axes>"
      ]
     },
     "metadata": {
      "needs_background": "light"
     },
     "output_type": "display_data"
    }
   ],
   "source": [
    "#Split your data into a training and test set\n",
    "df = pd.read_csv(\"salary.csv\")\n",
    "\n",
    "df = df.dropna()\n",
    "\n",
    "y = df[\"salary\"]\n",
    "\n",
    "\n",
    "\n",
    "X_train, X_test, y_train, y_test = train_test_split(df, y, test_size=0.3, random_state = 8)\n",
    "\n",
    "print (X_train.shape, y_train.shape)\n",
    "print (X_test.shape, y_test.shape)\n",
    "\n",
    "lm = linear_model.LinearRegression()\n",
    "\n",
    "model = lm.fit(X_train, y_train)\n",
    "\n",
    "predictions = lm.predict(X_test)\n",
    "\n",
    "\n",
    "#plt.scatter(y_test, predictions)\n",
    "#plt.xlabel(\"True Values\")\n",
    "#plt.ylabel(\"Predictions\")\n",
    "\n"
   ]
  },
  {
   "cell_type": "code",
   "execution_count": 24,
   "metadata": {},
   "outputs": [
    {
     "name": "stdout",
     "output_type": "stream",
     "text": [
      "          salary  exprior  yearsworked  yearsrank  market  degree  otherqual  \\\n",
      "0    53000.00000        0            0          0    1.17       1          0   \n",
      "1    58000.00000        1            0          0    1.24       1          0   \n",
      "2    45500.00000        0            0          0    1.21       1          0   \n",
      "3    35782.00000        0            2          1    0.99       1          0   \n",
      "4    34731.00000        0            2          2    0.91       1          0   \n",
      "5    56000.00000        1            0          0    1.19       1          0   \n",
      "6    61008.00000        0            2          2    1.33       1          0   \n",
      "7    39986.00000        0            2          0    0.99       1          0   \n",
      "8    36308.00000        0            2          1    0.85       1          0   \n",
      "9    55000.00000        0            0          0    1.23       1          0   \n",
      "10   55227.00000        0            3          3    1.23       1          0   \n",
      "11   55227.00000        0            3          3    1.23       1          0   \n",
      "12   33680.00000        0            3          1    1.05       1          0   \n",
      "13   61008.00000        0            3          3    1.24       1          0   \n",
      "14   37000.00000        3            0          0    0.99       1          0   \n",
      "15   46292.00000        0            2          2    1.14       1          0   \n",
      "16   33680.00000        0            2          1    0.85       1          0   \n",
      "17   39754.00000        0            1          0    0.88       1          0   \n",
      "18   34000.00000        0            3          3    0.73       1          0   \n",
      "19   42614.00000        0            2          2    0.88       1          0   \n",
      "20   55121.00000        2            1          1    1.18       1          0   \n",
      "21   32000.00000        3            0          0    0.91       1          0   \n",
      "22   34731.00000        1            1          1    0.85       1          0   \n",
      "23   62059.00000        0            3          3    1.17       1          0   \n",
      "24   61008.00000        0            2          2    1.33       1          0   \n",
      "25   33680.00000        0            3          3    0.88       1          0   \n",
      "26   35206.00000        0            3          2    0.85       1          0   \n",
      "27   35257.00000        0            2          2    0.85       1          0   \n",
      "28   35782.00000        1            2          2    0.99       1          0   \n",
      "29   39000.00000        4            0          0    1.22       1          0   \n",
      "..           ...      ...          ...        ...     ...     ...        ...   \n",
      "484  42813.00000        6           10          7    0.85       1          0   \n",
      "485  50008.00000        0           18         10    0.80       1          0   \n",
      "486  52773.00000        0           28         14    0.88       1          0   \n",
      "487  34997.00000        0           18         12    0.80       1          0   \n",
      "488  43921.00000        0           17         11    0.85       1          0   \n",
      "489  38935.00000       15            3          3    0.91       1          0   \n",
      "490  51640.00000        4           13          5    0.99       1          0   \n",
      "491  60678.00000        5           13          0    1.21       1          0   \n",
      "492  63660.85156       17            1          1    0.92       1          1   \n",
      "493  44410.85547        7           12         10    0.72       1          0   \n",
      "494  50729.00000        0           20          7    0.85       1          0   \n",
      "495  58530.00000        0           19          9    0.93       1          0   \n",
      "496  41063.00000        1           18         18    0.81       1          0   \n",
      "497  48681.00000        0           19         12    1.05       1          0   \n",
      "498  52446.00000        5           14          6    0.81       1          0   \n",
      "499  45669.00000        2           18          5    0.73       1          0   \n",
      "500  45047.00000        0           20         20    0.83       1          0   \n",
      "501  50280.00000        0           22         15    0.85       1          0   \n",
      "502  48765.00000       10           11          4    0.94       1          0   \n",
      "503  36308.00000       16            5          5    0.86       1          0   \n",
      "504  64770.00000        0           25         15    1.02       1          0   \n",
      "505  52009.00000        0           23          1    0.85       1          0   \n",
      "506  46843.00000        0           23         13    0.81       1          0   \n",
      "507  58766.75781        0           23         12    0.99       1          1   \n",
      "508  52395.00000        5           19          7    0.86       1          0   \n",
      "509  45906.00000        6           17         11    0.92       1          0   \n",
      "510  60402.00000        6           19          7    0.86       1          0   \n",
      "511  53187.00000       19            7          6    0.78       1          0   \n",
      "512  56542.00000        8           20         10    0.78       1          0   \n",
      "513  52662.00000       13           25         11    0.78       1          0   \n",
      "\n",
      "     position  male  yearsabs  Field_HR1  Field_HR2  Field_HR3  Field_HR4  \n",
      "0           1     1         0          0          0          1          0  \n",
      "1           1     1         0          0          1          0          0  \n",
      "2           1     1         2          0          0          1          0  \n",
      "3           1     1         1          0          0          0          1  \n",
      "4           1     1         1          0          0          0          1  \n",
      "5           1     1         0          1          0          0          0  \n",
      "6           1     1         0          0          1          0          0  \n",
      "7           1     1         0          0          0          0          1  \n",
      "8           1     1         1          1          0          0          0  \n",
      "9           1     1         1          1          0          0          0  \n",
      "10          1     1         1          1          0          0          0  \n",
      "11          1     1         1          0          1          0          0  \n",
      "12          1     1         1          0          0          0          1  \n",
      "13          1     1         1          0          0          0          1  \n",
      "14          1     1         0          1          0          0          0  \n",
      "15          1     1         0          0          1          0          0  \n",
      "16          1     1         0          0          0          1          0  \n",
      "17          1     1         2          0          0          1          0  \n",
      "18          1     1         2          0          0          1          0  \n",
      "19          1     1         0          0          1          0          0  \n",
      "20          1     1         0          0          1          0          0  \n",
      "21          1     1         0          0          0          1          0  \n",
      "22          1     1         3          0          0          0          1  \n",
      "23          1     1         0          1          0          0          0  \n",
      "24          1     1         1          0          1          0          0  \n",
      "25          1     1         1          0          0          0          1  \n",
      "26          1     1         0          0          0          0          1  \n",
      "27          1     1         1          0          0          0          1  \n",
      "28          1     1         0          0          0          0          1  \n",
      "29          1     1         0          0          0          0          1  \n",
      "..        ...   ...       ...        ...        ...        ...        ...  \n",
      "484         2     0        47          0          1          0          0  \n",
      "485         2     0        47          1          0          0          0  \n",
      "486         2     0        48          1          0          0          0  \n",
      "487         2     0        49          0          0          1          0  \n",
      "488         2     0        49          0          0          1          0  \n",
      "489         1     0        49          0          0          0          1  \n",
      "490         3     0        49          0          0          0          1  \n",
      "491         3     0        50          1          0          0          0  \n",
      "492         3     0        50          0          1          0          0  \n",
      "493         2     0        51          0          0          1          0  \n",
      "494         3     0        52          0          1          0          0  \n",
      "495         3     0        52          0          1          0          0  \n",
      "496         1     0        52          0          0          0          1  \n",
      "497         2     0        52          0          0          0          1  \n",
      "498         3     0        52          0          0          0          1  \n",
      "499         2     0        56          0          0          1          0  \n",
      "500         1     0        56          1          0          0          0  \n",
      "501         2     0        58          0          1          0          0  \n",
      "502         3     0        58          0          0          0          1  \n",
      "503         1     0        60          1          0          0          0  \n",
      "504         3     0        62          1          0          0          0  \n",
      "505         3     0        63          0          1          0          0  \n",
      "506         2     0        65          0          0          1          0  \n",
      "507         3     0        67          0          1          0          0  \n",
      "508         3     0        69          0          0          0          1  \n",
      "509         2     0        70          0          1          0          0  \n",
      "510         3     0        72          1          0          0          0  \n",
      "511         3     0        76          0          0          0          1  \n",
      "512         3     0        78          0          1          0          0  \n",
      "513         3     0       112          1          0          0          0  \n",
      "\n",
      "[513 rows x 14 columns]\n"
     ]
    }
   ],
   "source": [
    "#One-hot encode the variable Field into three dummy variables,\n",
    "\n",
    "get_processed = pd.get_dummies(df, prefix_sep=\"_HR\", columns = ['Field'])\n",
    "\n",
    "print(get_processed)\n",
    "\n"
   ]
  },
  {
   "cell_type": "code",
   "execution_count": 4,
   "metadata": {},
   "outputs": [
    {
     "data": {
      "text/plain": [
       "<matplotlib.collections.PathCollection at 0x7f2ab81dbcf8>"
      ]
     },
     "execution_count": 4,
     "metadata": {},
     "output_type": "execute_result"
    },
    {
     "data": {
      "image/png": "[encoded data removed]",
      "text/plain": [
       "<Figure size 432x288 with 5 Axes>"
      ]
     },
     "metadata": {
      "needs_background": "light"
     },
     "output_type": "display_data"
    }
   ],
   "source": [
    "\n",
    "\n",
    "#Create scatterplots,\n",
    "\n",
    "plt.subplot(4, 2, 1)\n",
    "plt.scatter(x = df[\"salary\"], y =  df[\"yearsworked\"], c = \"red\")\n",
    "\n",
    "plt.subplot(4, 2, 2)\n",
    "plt.scatter(x = df[\"salary\"], y =  df[\"exprior\"], c = \"green\")\n",
    "\n",
    "plt.subplot(4, 2, 3)\n",
    "plt.scatter(x = df[\"salary\"], y =  df[\"yearsrank\"], c=\"yellow\")\n",
    "\n",
    "plt.subplot(4, 2, 4)\n",
    "plt.scatter(x = df[\"salary\"], y =  df[\"market\"], c =\"orange\")\n",
    "\n",
    "plt.subplot(4, 2, 5)\n",
    "plt.scatter(x = df[\"salary\"], y =  df[\"yearsabs\"])\n",
    "\n"
   ]
  },
  {
   "cell_type": "code",
   "execution_count": 5,
   "metadata": {},
   "outputs": [
    {
     "data": {
      "text/plain": [
       "array([[<matplotlib.axes._subplots.AxesSubplot object at 0x7f2af4d1ae10>,\n",
       "        <matplotlib.axes._subplots.AxesSubplot object at 0x7f2ab8105358>,\n",
       "        <matplotlib.axes._subplots.AxesSubplot object at 0x7f2ab812a8d0>],\n",
       "       [<matplotlib.axes._subplots.AxesSubplot object at 0x7f2ab80d0e48>,\n",
       "        <matplotlib.axes._subplots.AxesSubplot object at 0x7f2ab8082400>,\n",
       "        <matplotlib.axes._subplots.AxesSubplot object at 0x7f2ab80aa978>],\n",
       "       [<matplotlib.axes._subplots.AxesSubplot object at 0x7f2ab8051ef0>,\n",
       "        <matplotlib.axes._subplots.AxesSubplot object at 0x7f2ab80024e0>,\n",
       "        <matplotlib.axes._subplots.AxesSubplot object at 0x7f2ab8002518>],\n",
       "       [<matplotlib.axes._subplots.AxesSubplot object at 0x7f2ab7fd3f98>,\n",
       "        <matplotlib.axes._subplots.AxesSubplot object at 0x7f2ab7f85550>,\n",
       "        <matplotlib.axes._subplots.AxesSubplot object at 0x7f2ab7fabac8>]],\n",
       "      dtype=object)"
      ]
     },
     "execution_count": 5,
     "metadata": {},
     "output_type": "execute_result"
    },
    {
     "data": {
      "image/png": "[encoded data removed]",
      "text/plain": [
       "<Figure size 432x288 with 12 Axes>"
      ]
     },
     "metadata": {
      "needs_background": "light"
     },
     "output_type": "display_data"
    }
   ],
   "source": [
    "#Create histograms\n",
    "\n",
    "df.hist()\n",
    "\n",
    "\n",
    "\n"
   ]
  },
  {
   "cell_type": "code",
   "execution_count": 6,
   "metadata": {},
   "outputs": [
    {
     "data": {
      "text/html": [
       "<div>\n",
       "<style scoped>\n",
       "    .dataframe tbody tr th:only-of-type {\n",
       "        vertical-align: middle;\n",
       "    }\n",
       "\n",
       "    .dataframe tbody tr th {\n",
       "        vertical-align: top;\n",
       "    }\n",
       "\n",
       "    .dataframe thead th {\n",
       "        text-align: right;\n",
       "    }\n",
       "</style>\n",
       "<table border=\"1\" class=\"dataframe\">\n",
       "  <thead>\n",
       "    <tr style=\"text-align: right;\">\n",
       "      <th></th>\n",
       "      <th>yearsrank</th>\n",
       "      <th>yearsworked</th>\n",
       "      <th>market</th>\n",
       "      <th>yearsabs</th>\n",
       "      <th>exprior</th>\n",
       "    </tr>\n",
       "  </thead>\n",
       "  <tbody>\n",
       "    <tr>\n",
       "      <th>count</th>\n",
       "      <td>359.000000</td>\n",
       "      <td>359.000000</td>\n",
       "      <td>359.000000</td>\n",
       "      <td>359.000000</td>\n",
       "      <td>359.000000</td>\n",
       "    </tr>\n",
       "    <tr>\n",
       "      <th>mean</th>\n",
       "      <td>7.128134</td>\n",
       "      <td>12.743733</td>\n",
       "      <td>0.940780</td>\n",
       "      <td>7.103064</td>\n",
       "      <td>3.130919</td>\n",
       "    </tr>\n",
       "    <tr>\n",
       "      <th>std</th>\n",
       "      <td>6.562571</td>\n",
       "      <td>9.681582</td>\n",
       "      <td>0.148966</td>\n",
       "      <td>16.947931</td>\n",
       "      <td>5.140715</td>\n",
       "    </tr>\n",
       "    <tr>\n",
       "      <th>min</th>\n",
       "      <td>0.000000</td>\n",
       "      <td>0.000000</td>\n",
       "      <td>0.710000</td>\n",
       "      <td>0.000000</td>\n",
       "      <td>0.000000</td>\n",
       "    </tr>\n",
       "    <tr>\n",
       "      <th>25%</th>\n",
       "      <td>2.000000</td>\n",
       "      <td>3.000000</td>\n",
       "      <td>0.840000</td>\n",
       "      <td>0.000000</td>\n",
       "      <td>0.000000</td>\n",
       "    </tr>\n",
       "    <tr>\n",
       "      <th>50%</th>\n",
       "      <td>5.000000</td>\n",
       "      <td>12.000000</td>\n",
       "      <td>0.910000</td>\n",
       "      <td>1.000000</td>\n",
       "      <td>0.000000</td>\n",
       "    </tr>\n",
       "    <tr>\n",
       "      <th>75%</th>\n",
       "      <td>12.000000</td>\n",
       "      <td>22.000000</td>\n",
       "      <td>1.000000</td>\n",
       "      <td>2.000000</td>\n",
       "      <td>4.000000</td>\n",
       "    </tr>\n",
       "    <tr>\n",
       "      <th>max</th>\n",
       "      <td>28.000000</td>\n",
       "      <td>41.000000</td>\n",
       "      <td>1.330000</td>\n",
       "      <td>118.000000</td>\n",
       "      <td>25.000000</td>\n",
       "    </tr>\n",
       "  </tbody>\n",
       "</table>\n",
       "</div>"
      ],
      "text/plain": [
       "        yearsrank  yearsworked      market    yearsabs     exprior\n",
       "count  359.000000   359.000000  359.000000  359.000000  359.000000\n",
       "mean     7.128134    12.743733    0.940780    7.103064    3.130919\n",
       "std      6.562571     9.681582    0.148966   16.947931    5.140715\n",
       "min      0.000000     0.000000    0.710000    0.000000    0.000000\n",
       "25%      2.000000     3.000000    0.840000    0.000000    0.000000\n",
       "50%      5.000000    12.000000    0.910000    1.000000    0.000000\n",
       "75%     12.000000    22.000000    1.000000    2.000000    4.000000\n",
       "max     28.000000    41.000000    1.330000  118.000000   25.000000"
      ]
     },
     "execution_count": 6,
     "metadata": {},
     "output_type": "execute_result"
    }
   ],
   "source": [
    "X_train.describe()"
   ]
  },
  {
   "cell_type": "markdown",
   "metadata": {},
   "source": [
    "Produce a correlation matrix comparing the relationship of salary to the predictor variables."
   ]
  },
  {
   "cell_type": "code",
   "execution_count": 7,
   "metadata": {},
   "outputs": [
    {
     "data": {
      "text/html": [
       "<div>\n",
       "<style scoped>\n",
       "    .dataframe tbody tr th:only-of-type {\n",
       "        vertical-align: middle;\n",
       "    }\n",
       "\n",
       "    .dataframe tbody tr th {\n",
       "        vertical-align: top;\n",
       "    }\n",
       "\n",
       "    .dataframe thead th {\n",
       "        text-align: right;\n",
       "    }\n",
       "</style>\n",
       "<table border=\"1\" class=\"dataframe\">\n",
       "  <thead>\n",
       "    <tr style=\"text-align: right;\">\n",
       "      <th></th>\n",
       "      <th>yearsrank</th>\n",
       "      <th>yearsworked</th>\n",
       "      <th>market</th>\n",
       "      <th>yearsabs</th>\n",
       "      <th>exprior</th>\n",
       "    </tr>\n",
       "  </thead>\n",
       "  <tbody>\n",
       "    <tr>\n",
       "      <th>yearsrank</th>\n",
       "      <td>1.000000</td>\n",
       "      <td>0.813543</td>\n",
       "      <td>-0.011503</td>\n",
       "      <td>0.038884</td>\n",
       "      <td>-0.091742</td>\n",
       "    </tr>\n",
       "    <tr>\n",
       "      <th>yearsworked</th>\n",
       "      <td>0.813543</td>\n",
       "      <td>1.000000</td>\n",
       "      <td>-0.076403</td>\n",
       "      <td>0.038192</td>\n",
       "      <td>-0.286285</td>\n",
       "    </tr>\n",
       "    <tr>\n",
       "      <th>market</th>\n",
       "      <td>-0.011503</td>\n",
       "      <td>-0.076403</td>\n",
       "      <td>1.000000</td>\n",
       "      <td>-0.185763</td>\n",
       "      <td>-0.030117</td>\n",
       "    </tr>\n",
       "    <tr>\n",
       "      <th>yearsabs</th>\n",
       "      <td>0.038884</td>\n",
       "      <td>0.038192</td>\n",
       "      <td>-0.185763</td>\n",
       "      <td>1.000000</td>\n",
       "      <td>0.126069</td>\n",
       "    </tr>\n",
       "    <tr>\n",
       "      <th>exprior</th>\n",
       "      <td>-0.091742</td>\n",
       "      <td>-0.286285</td>\n",
       "      <td>-0.030117</td>\n",
       "      <td>0.126069</td>\n",
       "      <td>1.000000</td>\n",
       "    </tr>\n",
       "  </tbody>\n",
       "</table>\n",
       "</div>"
      ],
      "text/plain": [
       "             yearsrank  yearsworked    market  yearsabs   exprior\n",
       "yearsrank     1.000000     0.813543 -0.011503  0.038884 -0.091742\n",
       "yearsworked   0.813543     1.000000 -0.076403  0.038192 -0.286285\n",
       "market       -0.011503    -0.076403  1.000000 -0.185763 -0.030117\n",
       "yearsabs      0.038884     0.038192 -0.185763  1.000000  0.126069\n",
       "exprior      -0.091742    -0.286285 -0.030117  0.126069  1.000000"
      ]
     },
     "execution_count": 7,
     "metadata": {},
     "output_type": "execute_result"
    }
   ],
   "source": [
    "X_train.corr()"
   ]
  },
  {
   "cell_type": "markdown",
   "metadata": {},
   "source": [
    "There is no multicollinearity"
   ]
  },
  {
   "cell_type": "markdown",
   "metadata": {},
   "source": [
    "4. Run the multiple linear regression"
   ]
  },
  {
   "cell_type": "code",
   "execution_count": 34,
   "metadata": {},
   "outputs": [
    {
     "name": "stdout",
     "output_type": "stream",
     "text": [
      "5886.989399386737\n",
      "[ 5.87771175e+02  4.88435446e+02  3.65755072e+04 -1.64651209e+01]\n",
      "Index(['salary', 'exprior', 'yearsworked', 'yearsrank', 'market', 'degree',\n",
      "       'otherqual', 'position', 'male', 'Field', 'yearsabs'],\n",
      "      dtype='object')\n"
     ]
    }
   ],
   "source": [
    "feature_cols = ['yearsrank' , 'yearsworked' , 'market' , 'yearsabs']\n",
    "\n",
    "X = X_train[feature_cols]\n",
    "Y = y_train\n",
    "\n",
    "lm2 = LinearRegression()\n",
    "lm2.fit( X, Y)\n",
    "\n",
    "print(lm2.intercept_)\n",
    "print(lm2.coef_)\n",
    "list(zip(feature_cols, lm2.coef_))\n",
    "\n",
    "print(X_test.columns)"
   ]
  },
  {
   "cell_type": "code",
   "execution_count": 35,
   "metadata": {},
   "outputs": [
    {
     "data": {
      "text/html": [
       "<table class=\"simpletable\">\n",
       "<caption>OLS Regression Results</caption>\n",
       "<tr>\n",
       "  <th>Dep. Variable:</th>         <td>salary</td>      <th>  R-squared:         </th> <td>   0.582</td>\n",
       "</tr>\n",
       "<tr>\n",
       "  <th>Model:</th>                   <td>OLS</td>       <th>  Adj. R-squared:    </th> <td>   0.577</td>\n",
       "</tr>\n",
       "<tr>\n",
       "  <th>Method:</th>             <td>Least Squares</td>  <th>  F-statistic:       </th> <td>   123.3</td>\n",
       "</tr>\n",
       "<tr>\n",
       "  <th>Date:</th>             <td>Tue, 14 May 2019</td> <th>  Prob (F-statistic):</th> <td>9.01e-66</td>\n",
       "</tr>\n",
       "<tr>\n",
       "  <th>Time:</th>                 <td>09:53:46</td>     <th>  Log-Likelihood:    </th> <td> -3742.2</td>\n",
       "</tr>\n",
       "<tr>\n",
       "  <th>No. Observations:</th>      <td>   359</td>      <th>  AIC:               </th> <td>   7494.</td>\n",
       "</tr>\n",
       "<tr>\n",
       "  <th>Df Residuals:</th>          <td>   354</td>      <th>  BIC:               </th> <td>   7514.</td>\n",
       "</tr>\n",
       "<tr>\n",
       "  <th>Df Model:</th>              <td>     4</td>      <th>                     </th>     <td> </td>   \n",
       "</tr>\n",
       "<tr>\n",
       "  <th>Covariance Type:</th>      <td>nonrobust</td>    <th>                     </th>     <td> </td>   \n",
       "</tr>\n",
       "</table>\n",
       "<table class=\"simpletable\">\n",
       "<tr>\n",
       "       <td></td>          <th>coef</th>     <th>std err</th>      <th>t</th>      <th>P>|t|</th>  <th>[0.025</th>    <th>0.975]</th>  \n",
       "</tr>\n",
       "<tr>\n",
       "  <th>Intercept</th>   <td> 5886.9894</td> <td> 2970.765</td> <td>    1.982</td> <td> 0.048</td> <td>   44.423</td> <td> 1.17e+04</td>\n",
       "</tr>\n",
       "<tr>\n",
       "  <th>yearsworked</th> <td>  488.4354</td> <td>   77.520</td> <td>    6.301</td> <td> 0.000</td> <td>  335.979</td> <td>  640.892</td>\n",
       "</tr>\n",
       "<tr>\n",
       "  <th>yearsrank</th>   <td>  587.7712</td> <td>  114.081</td> <td>    5.152</td> <td> 0.000</td> <td>  363.409</td> <td>  812.134</td>\n",
       "</tr>\n",
       "<tr>\n",
       "  <th>market</th>      <td> 3.658e+04</td> <td> 2981.426</td> <td>   12.268</td> <td> 0.000</td> <td> 3.07e+04</td> <td> 4.24e+04</td>\n",
       "</tr>\n",
       "<tr>\n",
       "  <th>yearsabs</th>    <td>  -16.4651</td> <td>   26.051</td> <td>   -0.632</td> <td> 0.528</td> <td>  -67.698</td> <td>   34.768</td>\n",
       "</tr>\n",
       "</table>\n",
       "<table class=\"simpletable\">\n",
       "<tr>\n",
       "  <th>Omnibus:</th>       <td>69.631</td> <th>  Durbin-Watson:     </th> <td>   1.969</td>\n",
       "</tr>\n",
       "<tr>\n",
       "  <th>Prob(Omnibus):</th> <td> 0.000</td> <th>  Jarque-Bera (JB):  </th> <td> 136.630</td>\n",
       "</tr>\n",
       "<tr>\n",
       "  <th>Skew:</th>          <td> 1.037</td> <th>  Prob(JB):          </th> <td>2.14e-30</td>\n",
       "</tr>\n",
       "<tr>\n",
       "  <th>Kurtosis:</th>      <td> 5.198</td> <th>  Cond. No.          </th> <td>    205.</td>\n",
       "</tr>\n",
       "</table><br/><br/>Warnings:<br/>[1] Standard Errors assume that the covariance matrix of the errors is correctly specified."
      ],
      "text/plain": [
       "<class 'statsmodels.iolib.summary.Summary'>\n",
       "\"\"\"\n",
       "                            OLS Regression Results                            \n",
       "==============================================================================\n",
       "Dep. Variable:                 salary   R-squared:                       0.582\n",
       "Model:                            OLS   Adj. R-squared:                  0.577\n",
       "Method:                 Least Squares   F-statistic:                     123.3\n",
       "Date:                Tue, 14 May 2019   Prob (F-statistic):           9.01e-66\n",
       "Time:                        09:53:46   Log-Likelihood:                -3742.2\n",
       "No. Observations:                 359   AIC:                             7494.\n",
       "Df Residuals:                     354   BIC:                             7514.\n",
       "Df Model:                           4                                         \n",
       "Covariance Type:            nonrobust                                         \n",
       "===============================================================================\n",
       "                  coef    std err          t      P>|t|      [0.025      0.975]\n",
       "-------------------------------------------------------------------------------\n",
       "Intercept    5886.9894   2970.765      1.982      0.048      44.423    1.17e+04\n",
       "yearsworked   488.4354     77.520      6.301      0.000     335.979     640.892\n",
       "yearsrank     587.7712    114.081      5.152      0.000     363.409     812.134\n",
       "market       3.658e+04   2981.426     12.268      0.000    3.07e+04    4.24e+04\n",
       "yearsabs      -16.4651     26.051     -0.632      0.528     -67.698      34.768\n",
       "==============================================================================\n",
       "Omnibus:                       69.631   Durbin-Watson:                   1.969\n",
       "Prob(Omnibus):                  0.000   Jarque-Bera (JB):              136.630\n",
       "Skew:                           1.037   Prob(JB):                     2.14e-30\n",
       "Kurtosis:                       5.198   Cond. No.                         205.\n",
       "==============================================================================\n",
       "\n",
       "Warnings:\n",
       "[1] Standard Errors assume that the covariance matrix of the errors is correctly specified.\n",
       "\"\"\""
      ]
     },
     "execution_count": 35,
     "metadata": {},
     "output_type": "execute_result"
    }
   ],
   "source": [
    "\n",
    "lm3 = smf.ols(formula='salary ~ yearsworked + yearsrank + market + yearsabs', data = X_train).fit()\n",
    "\n",
    "lm3.params\n",
    "\n",
    "lm3.summary()"
   ]
  },
  {
   "cell_type": "code",
   "execution_count": 42,
   "metadata": {},
   "outputs": [],
   "source": [
    "predictions = model.predict(X_train)\n",
    "residuals = lm3.resid"
   ]
  },
  {
   "cell_type": "code",
   "execution_count": 44,
   "metadata": {},
   "outputs": [
    {
     "name": "stdout",
     "output_type": "stream",
     "text": [
      "390   -11666.419323\n",
      "17      1225.059215\n",
      "84     -6491.790046\n",
      "404    -3836.350898\n",
      "141     1706.167780\n",
      "477    -7481.867685\n",
      "432    -5055.474466\n",
      "252    -2753.659204\n",
      "499     2273.242498\n",
      "241    -8425.171875\n",
      "446    -2609.806725\n",
      "79     -5415.883980\n",
      "24      4339.636289\n",
      "65      5691.971734\n",
      "114      623.768649\n",
      "234    -2498.841686\n",
      "500   -11799.745420\n",
      "440    -1182.879110\n",
      "280    22896.102269\n",
      "414    -5929.183677\n",
      "483    -1401.925520\n",
      "336    -5629.065273\n",
      "351     4040.308073\n",
      "235     4592.981964\n",
      "207     5414.210869\n",
      "251     6374.865270\n",
      "320    14198.916613\n",
      "226     2065.415794\n",
      "343     6129.870924\n",
      "337    -9566.256654\n",
      "           ...     \n",
      "490     1061.532330\n",
      "102     2841.843977\n",
      "271     1453.024600\n",
      "18     -1782.799994\n",
      "316    19520.883507\n",
      "355    23207.851915\n",
      "350     6722.599016\n",
      "143    11715.038305\n",
      "61     -5281.640881\n",
      "394    -3410.550132\n",
      "270    19263.811731\n",
      "108     2505.979490\n",
      "155     6416.031282\n",
      "459    -4051.218580\n",
      "115    -6575.116516\n",
      "434    -2421.853478\n",
      "317     -226.157191\n",
      "85     -2732.522548\n",
      "366     5094.572691\n",
      "48     -2111.987018\n",
      "191    -9073.622800\n",
      "361   -15727.171414\n",
      "340     -607.053309\n",
      "136    -3662.225817\n",
      "475    22503.626525\n",
      "133    -3126.561221\n",
      "362     5578.621295\n",
      "498     7424.312667\n",
      "341     3171.667357\n",
      "452     1421.883997\n",
      "Length: 359, dtype: float64\n"
     ]
    }
   ],
   "source": [
    "print(residuals)"
   ]
  },
  {
   "cell_type": "code",
   "execution_count": 50,
   "metadata": {},
   "outputs": [
    {
     "ename": "NameError",
     "evalue": "name 'mpl_to_plotly' is not defined",
     "output_type": "error",
     "traceback": [
      "\u001b[0;31m---------------------------------------------------------------------------\u001b[0m",
      "\u001b[0;31mNameError\u001b[0m                                 Traceback (most recent call last)",
      "\u001b[0;32m<ipython-input-50-0a3cee1ee429>\u001b[0m in \u001b[0;36m<module>\u001b[0;34m\u001b[0m\n\u001b[1;32m     11\u001b[0m \u001b[0mplt\u001b[0m\u001b[0;34m.\u001b[0m\u001b[0mscatter\u001b[0m\u001b[0;34m(\u001b[0m\u001b[0mx\u001b[0m\u001b[0;34m,\u001b[0m \u001b[0mresiduals\u001b[0m\u001b[0;34m,\u001b[0m \u001b[0malpha\u001b[0m\u001b[0;34m=\u001b[0m\u001b[0;36m.1\u001b[0m\u001b[0;34m,\u001b[0m \u001b[0ms\u001b[0m\u001b[0;34m=\u001b[0m\u001b[0;36m400\u001b[0m\u001b[0;34m)\u001b[0m\u001b[0;34m\u001b[0m\u001b[0;34m\u001b[0m\u001b[0m\n\u001b[1;32m     12\u001b[0m \u001b[0;34m\u001b[0m\u001b[0m\n\u001b[0;32m---> 13\u001b[0;31m \u001b[0mfig_plt\u001b[0m \u001b[0;34m=\u001b[0m \u001b[0mmpl_to_plotly\u001b[0m\u001b[0;34m(\u001b[0m\u001b[0malpha\u001b[0m\u001b[0;34m)\u001b[0m\u001b[0;34m\u001b[0m\u001b[0;34m\u001b[0m\u001b[0m\n\u001b[0m\u001b[1;32m     14\u001b[0m \u001b[0mplot\u001b[0m\u001b[0;34m(\u001b[0m\u001b[0mfig_plt\u001b[0m\u001b[0;34m,\u001b[0m \u001b[0mfilename\u001b[0m \u001b[0;34m=\u001b[0m \u001b[0;34m'Predictions Vs Residuals'\u001b[0m\u001b[0;34m)\u001b[0m\u001b[0;34m\u001b[0m\u001b[0;34m\u001b[0m\u001b[0m\n\u001b[1;32m     15\u001b[0m \u001b[0;34m\u001b[0m\u001b[0m\n",
      "\u001b[0;31mNameError\u001b[0m: name 'mpl_to_plotly' is not defined"
     ]
    },
    {
     "data": {
      "image/png": "[encoded data removed]",
      "text/plain": [
       "<Figure size 432x288 with 1 Axes>"
      ]
     },
     "metadata": {
      "needs_background": "light"
     },
     "output_type": "display_data"
    },
    {
     "data": {
      "image/png": "[encoded data removed]",
      "text/plain": [
       "<Figure size 432x288 with 1 Axes>"
      ]
     },
     "metadata": {
      "needs_background": "light"
     },
     "output_type": "display_data"
    }
   ],
   "source": [
    "x = lm3.fittedvalues\n",
    "\n",
    "\n",
    "plt.scatter(x, residuals)\n",
    "plt.ylabel(\"Residuals\")\n",
    "plt.xlabel(\"Predictions\")\n",
    "\n",
    "\n",
    "alpha = plt.figure()\n",
    "\n",
    "plt.scatter(x, residuals, alpha=.1, s=400)\n",
    "\n",
    "fig_plt = mpl_to_plotly(alpha)\n",
    "plot(fig_plt, filename = 'Predictions Vs Residuals')\n",
    "\n",
    "\n",
    "ptl.show()\n"
   ]
  },
  {
   "cell_type": "code",
   "execution_count": null,
   "metadata": {},
   "outputs": [],
   "source": []
  }
 ],
 "metadata": {
  "kernelspec": {
   "display_name": "Python 3",
   "language": "python",
   "name": "python3"
  },
  "language_info": {
   "codemirror_mode": {
    "name": "ipython",
    "version": 3
   },
   "file_extension": ".py",
   "mimetype": "text/x-python",
   "name": "python",
   "nbconvert_exporter": "python",
   "pygments_lexer": "ipython3",
   "version": "3.7.1"
  }
 },
 "nbformat": 4,
 "nbformat_minor": 2
}
